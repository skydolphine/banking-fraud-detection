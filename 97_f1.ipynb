{
  "nbformat": 4,
  "nbformat_minor": 0,
  "metadata": {
    "colab": {
      "name": "97 f1",
      "provenance": [],
      "collapsed_sections": [],
      "authorship_tag": "ABX9TyMBpQ/Vkh3pz5Dd8yLhJUHj",
      "include_colab_link": true
    },
    "kernelspec": {
      "name": "python3",
      "display_name": "Python 3"
    }
  },
  "cells": [
    {
      "cell_type": "markdown",
      "metadata": {
        "id": "view-in-github",
        "colab_type": "text"
      },
      "source": [
        "<a href=\"https://colab.research.google.com/github/skydolphine/banking-fraud-detection/blob/main/97_f1.ipynb\" target=\"_parent\"><img src=\"https://colab.research.google.com/assets/colab-badge.svg\" alt=\"Open In Colab\"/></a>"
      ]
    },
    {
      "cell_type": "code",
      "metadata": {
        "id": "O3XeR-MNn6xZ"
      },
      "source": [
        "# Load moduls and libraries \n",
        "import pandas as pd \n",
        "import numpy as np \n",
        "import scipy.stats as st\n",
        "import seaborn as sns\n",
        "import pickle\n",
        "import time\n",
        "\n",
        "from scipy.signal import lfilter\n",
        "\n",
        "from sklearn.preprocessing import RobustScaler\n",
        "from sklearn.model_selection import train_test_split\n",
        "from sklearn.model_selection import RandomizedSearchCV\n",
        "from sklearn.metrics import f1_score\n",
        "\n",
        "from sklearn.ensemble import RandomForestClassifier\n",
        "from sklearn.ensemble import BaggingClassifier\n",
        "from sklearn.tree import DecisionTreeClassifier\n",
        "from sklearn.neighbors import KNeighborsClassifier\n",
        "\n",
        "from sklearn.utils import class_weight\n",
        "from sklearn.decomposition import PCA \n",
        "from sklearn.pipeline import make_pipeline\n",
        "\n",
        "\n",
        "from sklearn.preprocessing import MinMaxScaler\n",
        "from sklearn.preprocessing import minmax_scale\n",
        "from sklearn.preprocessing import MaxAbsScaler\n",
        "from sklearn.preprocessing import StandardScaler\n",
        "from sklearn.preprocessing import RobustScaler\n",
        "from sklearn.preprocessing import Normalizer\n",
        "from sklearn.preprocessing import QuantileTransformer\n",
        "from sklearn.preprocessing import PowerTransformer\n",
        "\n",
        "from sklearn.metrics import classification_report\n",
        "\n",
        "\n",
        "\n",
        "import matplotlib.pyplot as plt \n",
        "\n",
        "# supress all warnings \n",
        "import warnings\n",
        "warnings.simplefilter(action='ignore', category=FutureWarning)\n",
        "\n",
        "\n",
        "\n",
        "# Load libraries\n",
        "import numpy as np\n",
        "import pandas as pd\n",
        "from matplotlib import pyplot\n",
        "from pandas import read_csv, set_option\n",
        "from pandas.plotting import scatter_matrix\n",
        "import seaborn as sns\n",
        "from sklearn.preprocessing import StandardScaler\n",
        "from sklearn.preprocessing import MinMaxScaler\n",
        "from sklearn.model_selection import train_test_split, KFold, cross_val_score, GridSearchCV\n",
        "from sklearn.linear_model import LogisticRegression\n",
        "from sklearn.tree import DecisionTreeClassifier\n",
        "from sklearn.neighbors import KNeighborsClassifier\n",
        "from sklearn.discriminant_analysis import LinearDiscriminantAnalysis\n",
        "from sklearn.naive_bayes import GaussianNB\n",
        "from sklearn.svm import SVC\n",
        "from sklearn.neural_network import MLPClassifier\n",
        "from sklearn.pipeline import Pipeline\n",
        "from sklearn.ensemble import AdaBoostClassifier, GradientBoostingClassifier, RandomForestClassifier, ExtraTreesClassifier\n",
        "from sklearn.metrics import classification_report, confusion_matrix, accuracy_score\n",
        "\n",
        "#Libraries for Deep Learning Models\n",
        "from keras.models import Sequential\n",
        "from keras.layers import Dense\n",
        "from keras.wrappers.scikit_learn import KerasClassifier\n",
        "from keras.optimizers import SGD\n",
        "\n",
        "#Libraries for Saving the Model\n",
        "from pickle import dump\n",
        "from pickle import load"
      ],
      "execution_count": null,
      "outputs": []
    },
    {
      "cell_type": "code",
      "metadata": {
        "colab": {
          "base_uri": "https://localhost:8080/",
          "height": 436
        },
        "id": "WuuVqewqn-8p",
        "outputId": "7ccc500d-9a3e-4976-c453-aa22357fce00"
      },
      "source": [
        "from google.colab import drive\n",
        "drive.mount('/content/drive')\n",
        "path=\"/content/drive/My Drive/train_imu.csv\"\n",
        "#df = pd.read_csv(path).iloc[:1000000]\n",
        "df = pd.read_csv(path)\n",
        "\n",
        "def filterData(samples):\n",
        "  \n",
        "    window = 1000# the larger n is, the smoother curve will be\n",
        "    b = [1.0 / window] * window\n",
        "    a = 1\n",
        "    y = lfilter(b,a,samples)\n",
        "    \n",
        "    return y \n",
        "df_filter = df.loc[:, df.columns[:-2].tolist()].apply(filterData)\n",
        "df = pd.concat([df_filter, df.datetime,df.labels], join='outer', axis=1)\n",
        "df\n"
      ],
      "execution_count": null,
      "outputs": [
        {
          "output_type": "stream",
          "text": [
            "Drive already mounted at /content/drive; to attempt to forcibly remount, call drive.mount(\"/content/drive\", force_remount=True).\n"
          ],
          "name": "stdout"
        },
        {
          "output_type": "execute_result",
          "data": {
            "text/html": [
              "<div>\n",
              "<style scoped>\n",
              "    .dataframe tbody tr th:only-of-type {\n",
              "        vertical-align: middle;\n",
              "    }\n",
              "\n",
              "    .dataframe tbody tr th {\n",
              "        vertical-align: top;\n",
              "    }\n",
              "\n",
              "    .dataframe thead th {\n",
              "        text-align: right;\n",
              "    }\n",
              "</style>\n",
              "<table border=\"1\" class=\"dataframe\">\n",
              "  <thead>\n",
              "    <tr style=\"text-align: right;\">\n",
              "      <th></th>\n",
              "      <th>Ax</th>\n",
              "      <th>Ay</th>\n",
              "      <th>Az</th>\n",
              "      <th>Gx</th>\n",
              "      <th>Gy</th>\n",
              "      <th>Gz</th>\n",
              "      <th>datetime</th>\n",
              "      <th>labels</th>\n",
              "    </tr>\n",
              "  </thead>\n",
              "  <tbody>\n",
              "    <tr>\n",
              "      <th>0</th>\n",
              "      <td>1.072</td>\n",
              "      <td>16.632</td>\n",
              "      <td>1.100</td>\n",
              "      <td>-0.038</td>\n",
              "      <td>0.032</td>\n",
              "      <td>-0.061</td>\n",
              "      <td>2020-11-05 10:45:24</td>\n",
              "      <td>0</td>\n",
              "    </tr>\n",
              "    <tr>\n",
              "      <th>1</th>\n",
              "      <td>1.904</td>\n",
              "      <td>33.328</td>\n",
              "      <td>2.176</td>\n",
              "      <td>-0.070</td>\n",
              "      <td>0.089</td>\n",
              "      <td>-0.079</td>\n",
              "      <td>2020-11-05 10:45:24</td>\n",
              "      <td>0</td>\n",
              "    </tr>\n",
              "    <tr>\n",
              "      <th>2</th>\n",
              "      <td>2.812</td>\n",
              "      <td>49.872</td>\n",
              "      <td>3.124</td>\n",
              "      <td>-0.101</td>\n",
              "      <td>0.092</td>\n",
              "      <td>-0.119</td>\n",
              "      <td>2020-11-05 10:45:24</td>\n",
              "      <td>0</td>\n",
              "    </tr>\n",
              "    <tr>\n",
              "      <th>3</th>\n",
              "      <td>3.836</td>\n",
              "      <td>66.464</td>\n",
              "      <td>4.252</td>\n",
              "      <td>-0.120</td>\n",
              "      <td>0.143</td>\n",
              "      <td>-0.158</td>\n",
              "      <td>2020-11-05 10:45:24</td>\n",
              "      <td>0</td>\n",
              "    </tr>\n",
              "    <tr>\n",
              "      <th>4</th>\n",
              "      <td>4.772</td>\n",
              "      <td>82.976</td>\n",
              "      <td>5.316</td>\n",
              "      <td>-0.151</td>\n",
              "      <td>0.144</td>\n",
              "      <td>-0.196</td>\n",
              "      <td>2020-11-05 10:45:24</td>\n",
              "      <td>0</td>\n",
              "    </tr>\n",
              "    <tr>\n",
              "      <th>...</th>\n",
              "      <td>...</td>\n",
              "      <td>...</td>\n",
              "      <td>...</td>\n",
              "      <td>...</td>\n",
              "      <td>...</td>\n",
              "      <td>...</td>\n",
              "      <td>...</td>\n",
              "      <td>...</td>\n",
              "    </tr>\n",
              "    <tr>\n",
              "      <th>2180486</th>\n",
              "      <td>8638.360</td>\n",
              "      <td>-2158.181</td>\n",
              "      <td>216.551</td>\n",
              "      <td>-49.597</td>\n",
              "      <td>28.703</td>\n",
              "      <td>-55.410</td>\n",
              "      <td>2020-11-11 10:38:48</td>\n",
              "      <td>0</td>\n",
              "    </tr>\n",
              "    <tr>\n",
              "      <th>2180487</th>\n",
              "      <td>8645.012</td>\n",
              "      <td>-2156.813</td>\n",
              "      <td>238.395</td>\n",
              "      <td>-49.998</td>\n",
              "      <td>28.813</td>\n",
              "      <td>-55.083</td>\n",
              "      <td>2020-11-11 10:38:49</td>\n",
              "      <td>0</td>\n",
              "    </tr>\n",
              "    <tr>\n",
              "      <th>2180488</th>\n",
              "      <td>8653.192</td>\n",
              "      <td>-2154.809</td>\n",
              "      <td>262.223</td>\n",
              "      <td>-50.024</td>\n",
              "      <td>29.112</td>\n",
              "      <td>-54.961</td>\n",
              "      <td>2020-11-11 10:38:49</td>\n",
              "      <td>0</td>\n",
              "    </tr>\n",
              "    <tr>\n",
              "      <th>2180489</th>\n",
              "      <td>8667.888</td>\n",
              "      <td>-2154.433</td>\n",
              "      <td>285.491</td>\n",
              "      <td>-49.652</td>\n",
              "      <td>29.021</td>\n",
              "      <td>-54.639</td>\n",
              "      <td>2020-11-11 10:38:49</td>\n",
              "      <td>0</td>\n",
              "    </tr>\n",
              "    <tr>\n",
              "      <th>2180490</th>\n",
              "      <td>8682.940</td>\n",
              "      <td>-2152.993</td>\n",
              "      <td>310.151</td>\n",
              "      <td>-50.093</td>\n",
              "      <td>28.545</td>\n",
              "      <td>-52.944</td>\n",
              "      <td>2020-11-11 10:38:49</td>\n",
              "      <td>0</td>\n",
              "    </tr>\n",
              "  </tbody>\n",
              "</table>\n",
              "<p>2180491 rows × 8 columns</p>\n",
              "</div>"
            ],
            "text/plain": [
              "               Ax        Ay       Az  ...      Gz             datetime  labels\n",
              "0           1.072    16.632    1.100  ...  -0.061  2020-11-05 10:45:24       0\n",
              "1           1.904    33.328    2.176  ...  -0.079  2020-11-05 10:45:24       0\n",
              "2           2.812    49.872    3.124  ...  -0.119  2020-11-05 10:45:24       0\n",
              "3           3.836    66.464    4.252  ...  -0.158  2020-11-05 10:45:24       0\n",
              "4           4.772    82.976    5.316  ...  -0.196  2020-11-05 10:45:24       0\n",
              "...           ...       ...      ...  ...     ...                  ...     ...\n",
              "2180486  8638.360 -2158.181  216.551  ... -55.410  2020-11-11 10:38:48       0\n",
              "2180487  8645.012 -2156.813  238.395  ... -55.083  2020-11-11 10:38:49       0\n",
              "2180488  8653.192 -2154.809  262.223  ... -54.961  2020-11-11 10:38:49       0\n",
              "2180489  8667.888 -2154.433  285.491  ... -54.639  2020-11-11 10:38:49       0\n",
              "2180490  8682.940 -2152.993  310.151  ... -52.944  2020-11-11 10:38:49       0\n",
              "\n",
              "[2180491 rows x 8 columns]"
            ]
          },
          "metadata": {
            "tags": []
          },
          "execution_count": 72
        }
      ]
    },
    {
      "cell_type": "code",
      "metadata": {
        "id": "PQZM6ucUq87B"
      },
      "source": [
        "\n",
        "\n",
        "# df['datetime'] = pd.to_datetime(df['datetime'])\n",
        "# df = df.set_index('datetime')\n",
        "# df = df.resample('S').median()\n",
        "# df=df.dropna(axis=0)\n",
        "# df=df.sample(frac=1)\n",
        "\n",
        "# X=df.iloc[:,0:6]\n",
        "# y=df[\"labels\"].values\n",
        "\n",
        "# #X_transformed=QuantileTransformer(output_distribution='normal').fit_transform(X)\n",
        "# X_transformed = MinMaxScaler(feature_range=(0,1)).fit_transform(X)\n",
        "# X_transformed=pd.DataFrame(X_transformed)\n",
        "\n",
        "# n=300000\n",
        "# X_transformed1=X_transformed[:n]\n",
        "# X_transformed2=X_transformed[n:]\n",
        "# y1=y[:n]\n",
        "# y2=y[n:]\n",
        "\n"
      ],
      "execution_count": null,
      "outputs": []
    },
    {
      "cell_type": "code",
      "metadata": {
        "id": "5CypDahfp36f"
      },
      "source": [
        "\n",
        "df['datetime'] = pd.to_datetime(df['datetime'])\n",
        "df = df.set_index('datetime')\n",
        "df = df.resample('S').median()\n",
        "df=df.dropna(axis=0)\n",
        "\n",
        "\n",
        "X=df.iloc[:,0:6]\n",
        "y=df[\"labels\"].values\n",
        "y=pd.DataFrame(y)\n",
        "\n",
        "X_transformed = MinMaxScaler(feature_range=(0,1)).fit_transform(X)\n",
        "df=pd.DataFrame(X_transformed)\n",
        "df=pd.concat([df,y],axis=1)\n",
        "\n",
        "n=300000\n",
        "train=df[:n]\n",
        "test=df[n:]\n",
        "\n",
        "train=train.sample(frac=1)\n",
        "#test=test.sample(frac=1)\n",
        "\n",
        "\n",
        "Xtrain=train.iloc[:,0:6]\n",
        "ytrain=train.iloc[:,-1].values\n",
        "\n",
        "Xtest=test.iloc[:,0:6]\n",
        "ytest=test.iloc[:,-1].values\n"
      ],
      "execution_count": null,
      "outputs": []
    },
    {
      "cell_type": "code",
      "metadata": {
        "id": "FNPZaUBkrfej"
      },
      "source": [
        "\n",
        "# df['datetime'] = pd.to_datetime(df['datetime'])\n",
        "# df = df.set_index('datetime')\n",
        "# df = df.resample('S').median()\n",
        "# df=df.dropna(axis=0)\n",
        "\n",
        "\n",
        "# n=300000\n",
        "# train=df[:n]\n",
        "# test=df[n:]\n",
        "\n",
        "# train=train.sample(frac=1)\n",
        "# #test=test.sample(frac=1)\n",
        "\n",
        "\n",
        "# Xtrain=train.iloc[:,0:6]\n",
        "# ytrain=train[\"labels\"].values\n",
        "\n",
        "# Xtest=test.iloc[:,0:6]\n",
        "# ytest=test[\"labels\"].values\n"
      ],
      "execution_count": null,
      "outputs": []
    },
    {
      "cell_type": "code",
      "metadata": {
        "colab": {
          "base_uri": "https://localhost:8080/"
        },
        "id": "zp2ZBEwmlx5y",
        "outputId": "3a6517d6-3c6d-464a-9083-f6b5a773aff3"
      },
      "source": [
        "model=ExtraTreesClassifier()\n",
        "model.fit(Xtrain,ytrain)\n",
        "predictions = model.predict(Xtest)\n",
        "print(confusion_matrix(ytest, predictions))\n",
        "print(classification_report(ytest, predictions))\n"
      ],
      "execution_count": null,
      "outputs": [
        {
          "output_type": "stream",
          "text": [
            "[[147278  11982    311      0]\n",
            " [ 35940  14861    217      0]\n",
            " [  2594    912     88      0]\n",
            " [   185     84      0      0]]\n"
          ],
          "name": "stdout"
        },
        {
          "output_type": "stream",
          "text": [
            "/usr/local/lib/python3.6/dist-packages/sklearn/metrics/_classification.py:1272: UndefinedMetricWarning: Precision and F-score are ill-defined and being set to 0.0 in labels with no predicted samples. Use `zero_division` parameter to control this behavior.\n",
            "  _warn_prf(average, modifier, msg_start, len(result))\n"
          ],
          "name": "stderr"
        },
        {
          "output_type": "stream",
          "text": [
            "              precision    recall  f1-score   support\n",
            "\n",
            "         0.0       0.79      0.92      0.85    159571\n",
            "         1.0       0.53      0.29      0.38     51018\n",
            "         2.0       0.14      0.02      0.04      3594\n",
            "         4.0       0.00      0.00      0.00       269\n",
            "\n",
            "    accuracy                           0.76    214452\n",
            "   macro avg       0.37      0.31      0.32    214452\n",
            "weighted avg       0.72      0.76      0.72    214452\n",
            "\n"
          ],
          "name": "stdout"
        }
      ]
    },
    {
      "cell_type": "code",
      "metadata": {
        "id": "eAPuT4bPoqZd"
      },
      "source": [
        "model=ExtraTreesClassifier()\n",
        "model.fit(X_transformed1,y1)\n",
        "\n",
        "\n",
        "predictions = model.predict(X_transformed2)\n",
        "\n",
        "print(accuracy_score(y2, predictions))\n",
        "print(confusion_matrix(y2, predictions))\n",
        "print(classification_report(y2, predictions))\n",
        "f_score = f1_score(y2, predictions, average = 'macro')\n",
        "print(\"f1:\",f_score)"
      ],
      "execution_count": null,
      "outputs": []
    },
    {
      "cell_type": "code",
      "metadata": {
        "id": "VcEMqAUFlx9I"
      },
      "source": [
        "# save the model to disk\n",
        "filename = 'extra_tree_model.pkl'\n",
        "pickle.dump(model, open(filename, 'wb'))\n"
      ],
      "execution_count": null,
      "outputs": []
    },
    {
      "cell_type": "code",
      "metadata": {
        "id": "LeJTxDsBlyCi"
      },
      "source": [
        "ignore 下面的code"
      ],
      "execution_count": null,
      "outputs": []
    },
    {
      "cell_type": "code",
      "metadata": {
        "id": "H952IJDOlyFa"
      },
      "source": [
        ""
      ],
      "execution_count": null,
      "outputs": []
    },
    {
      "cell_type": "code",
      "metadata": {
        "id": "dzQv9zg8lyIx"
      },
      "source": [
        "from sklearn import datasets\n",
        "from sklearn.datasets import load_digits\n",
        "digits = load_digits()\n",
        "# import some data to play with\n",
        "iris = datasets.load_iris()\n",
        "X = iris.data[:, :3]  # we only take the first two features.\n",
        "y = iris.target\n",
        "\n",
        "\n",
        "\n",
        "X=pd.DataFrame(X)\n",
        "y=pd.DataFrame(y)\n",
        "df=pd.concat([X,y],axis=1)\n",
        "df=df.sample(frac=1)\n",
        "df\n",
        "\n",
        "\n",
        "\n",
        "\n",
        "\n",
        "n=80\n",
        "train=df[:n]\n",
        "test=df[n:]\n",
        "\n",
        "train=train.sample(frac=1)\n",
        "#test=test.sample(frac=1)\n",
        "\n",
        "\n",
        "Xtrain=train.iloc[:,:-1]\n",
        "ytrain=train.iloc[:,-1:].values\n",
        "\n",
        "Xtest=test.iloc[:,:-1]\n",
        "ytest=test.iloc[:,-1:].values\n",
        "model=ExtraTreesClassifier()\n",
        "model.fit(Xtrain,ytrain)\n",
        "predictions = model.predict(Xtest)\n",
        "print(confusion_matrix(ytest, predictions))\n",
        "print(classification_report(ytest, predictions))\n",
        "\n"
      ],
      "execution_count": null,
      "outputs": []
    },
    {
      "cell_type": "code",
      "metadata": {
        "id": "yJ5ZGLillyMF"
      },
      "source": [
        ""
      ],
      "execution_count": null,
      "outputs": []
    },
    {
      "cell_type": "code",
      "metadata": {
        "id": "eM3Yw1N_rTlP"
      },
      "source": [
        ""
      ],
      "execution_count": null,
      "outputs": []
    },
    {
      "cell_type": "code",
      "metadata": {
        "id": "dv8uiaMorToC"
      },
      "source": [
        ""
      ],
      "execution_count": null,
      "outputs": []
    },
    {
      "cell_type": "code",
      "metadata": {
        "id": "54borlgDrTsW"
      },
      "source": [
        ""
      ],
      "execution_count": null,
      "outputs": []
    },
    {
      "cell_type": "code",
      "metadata": {
        "id": "SP58nFIQrTuP"
      },
      "source": [
        ""
      ],
      "execution_count": null,
      "outputs": []
    },
    {
      "cell_type": "code",
      "metadata": {
        "id": "6Uzx1OikrTxP"
      },
      "source": [
        ""
      ],
      "execution_count": null,
      "outputs": []
    },
    {
      "cell_type": "code",
      "metadata": {
        "id": "csLyOdt6zRCc"
      },
      "source": [
        ""
      ],
      "execution_count": null,
      "outputs": []
    },
    {
      "cell_type": "code",
      "metadata": {
        "id": "ytR5VzZszRFY"
      },
      "source": [
        ""
      ],
      "execution_count": null,
      "outputs": []
    },
    {
      "cell_type": "code",
      "metadata": {
        "id": "JfeXq3XFzRH_"
      },
      "source": [
        ""
      ],
      "execution_count": null,
      "outputs": []
    },
    {
      "cell_type": "code",
      "metadata": {
        "id": "QFb5hOnWzRKy"
      },
      "source": [
        ""
      ],
      "execution_count": null,
      "outputs": []
    },
    {
      "cell_type": "code",
      "metadata": {
        "id": "1CN95NzDzRNp"
      },
      "source": [
        ""
      ],
      "execution_count": null,
      "outputs": []
    },
    {
      "cell_type": "code",
      "metadata": {
        "id": "oUqdSyTxzRQi"
      },
      "source": [
        ""
      ],
      "execution_count": null,
      "outputs": []
    },
    {
      "cell_type": "code",
      "metadata": {
        "id": "EC-1xNODrTzd"
      },
      "source": [
        ""
      ],
      "execution_count": null,
      "outputs": []
    },
    {
      "cell_type": "code",
      "metadata": {
        "id": "mHpRzUtVSVHC"
      },
      "source": [
        "df['datetime'] = pd.to_datetime(df['datetime'])\n",
        "df = df.set_index('datetime')\n",
        "df = df.resample('S').median()\n",
        "df=df.dropna(axis=0)\n",
        "df=df.sample(frac=1)\n",
        "\n",
        "X=df.iloc[:,0:6]\n",
        "y=df[\"labels\"].values\n",
        "\n",
        "#X_transformed=QuantileTransformer(output_distribution='normal').fit_transform(X)\n",
        "X_transformed = MinMaxScaler(feature_range=(0,1)).fit_transform(X)\n",
        "X_transformed=pd.DataFrame(X_transformed)\n",
        "\n",
        "n=300000\n",
        "X_transformed1=X_transformed[:n]\n",
        "X_transformed2=X_transformed[n:]\n",
        "y1=y[:n]\n",
        "y2=y[n:]\n",
        "\n"
      ],
      "execution_count": null,
      "outputs": []
    },
    {
      "cell_type": "code",
      "metadata": {
        "id": "ALvu6aNdlrQj"
      },
      "source": [
        ""
      ],
      "execution_count": null,
      "outputs": []
    },
    {
      "cell_type": "code",
      "metadata": {
        "id": "LRzOyr-5f14H",
        "colab": {
          "base_uri": "https://localhost:8080/"
        },
        "outputId": "63daa4c7-7e61-452f-e751-565dd52dde9e"
      },
      "source": [
        "model=ExtraTreesClassifier()\n",
        "#model=KNeighborsClassifier()\n",
        "#model=RandomForestClassifier()\n",
        "\n",
        "model.fit(X_transformed1,y1)\n",
        "\n",
        "# predictions = model.predict(testX)\n",
        "# print(accuracy_score(testy, predictions))\n",
        "# print(confusion_matrix(testy, predictions))\n",
        "# print(classification_report(testy, predictions))\n",
        "# f_score = f1_score(testy, predictions, average = 'macro')\n",
        "# print(\"f1:\",f_score)"
      ],
      "execution_count": null,
      "outputs": [
        {
          "output_type": "execute_result",
          "data": {
            "text/plain": [
              "ExtraTreesClassifier(bootstrap=False, ccp_alpha=0.0, class_weight=None,\n",
              "                     criterion='gini', max_depth=None, max_features='auto',\n",
              "                     max_leaf_nodes=None, max_samples=None,\n",
              "                     min_impurity_decrease=0.0, min_impurity_split=None,\n",
              "                     min_samples_leaf=1, min_samples_split=2,\n",
              "                     min_weight_fraction_leaf=0.0, n_estimators=100,\n",
              "                     n_jobs=None, oob_score=False, random_state=None, verbose=0,\n",
              "                     warm_start=False)"
            ]
          },
          "metadata": {
            "tags": []
          },
          "execution_count": 154
        }
      ]
    },
    {
      "cell_type": "code",
      "metadata": {
        "colab": {
          "base_uri": "https://localhost:8080/",
          "height": 392
        },
        "id": "kuWsI3HODvNS",
        "outputId": "e0023470-6350-43f9-df48-984f251d416b"
      },
      "source": [
        "predictions = model.predict(X_transformed2)\n",
        "\n",
        "print(accuracy_score(y2, predictions))\n",
        "print(confusion_matrix(y2, predictions))\n",
        "print(classification_report(y2, predictions))\n",
        "f_score = f1_score(y2, predictions, average = 'macro')\n",
        "print(\"f1:\",f_score)"
      ],
      "execution_count": null,
      "outputs": [
        {
          "output_type": "error",
          "ename": "ValueError",
          "evalue": "ignored",
          "traceback": [
            "\u001b[0;31m---------------------------------------------------------------------------\u001b[0m",
            "\u001b[0;31mValueError\u001b[0m                                Traceback (most recent call last)",
            "\u001b[0;32m<ipython-input-173-d0bc7cc8b88d>\u001b[0m in \u001b[0;36m<module>\u001b[0;34m()\u001b[0m\n\u001b[0;32m----> 1\u001b[0;31m \u001b[0mpredictions\u001b[0m \u001b[0;34m=\u001b[0m \u001b[0mmodel\u001b[0m\u001b[0;34m.\u001b[0m\u001b[0mpredict\u001b[0m\u001b[0;34m(\u001b[0m\u001b[0mX_transformed2\u001b[0m\u001b[0;34m)\u001b[0m\u001b[0;34m\u001b[0m\u001b[0;34m\u001b[0m\u001b[0m\n\u001b[0m\u001b[1;32m      2\u001b[0m \u001b[0;34m\u001b[0m\u001b[0m\n\u001b[1;32m      3\u001b[0m \u001b[0mprint\u001b[0m\u001b[0;34m(\u001b[0m\u001b[0maccuracy_score\u001b[0m\u001b[0;34m(\u001b[0m\u001b[0my2\u001b[0m\u001b[0;34m,\u001b[0m \u001b[0mpredictions\u001b[0m\u001b[0;34m)\u001b[0m\u001b[0;34m)\u001b[0m\u001b[0;34m\u001b[0m\u001b[0;34m\u001b[0m\u001b[0m\n\u001b[1;32m      4\u001b[0m \u001b[0mprint\u001b[0m\u001b[0;34m(\u001b[0m\u001b[0mconfusion_matrix\u001b[0m\u001b[0;34m(\u001b[0m\u001b[0my2\u001b[0m\u001b[0;34m,\u001b[0m \u001b[0mpredictions\u001b[0m\u001b[0;34m)\u001b[0m\u001b[0;34m)\u001b[0m\u001b[0;34m\u001b[0m\u001b[0;34m\u001b[0m\u001b[0m\n\u001b[1;32m      5\u001b[0m \u001b[0mprint\u001b[0m\u001b[0;34m(\u001b[0m\u001b[0mclassification_report\u001b[0m\u001b[0;34m(\u001b[0m\u001b[0my2\u001b[0m\u001b[0;34m,\u001b[0m \u001b[0mpredictions\u001b[0m\u001b[0;34m)\u001b[0m\u001b[0;34m)\u001b[0m\u001b[0;34m\u001b[0m\u001b[0;34m\u001b[0m\u001b[0m\n",
            "\u001b[0;32m/usr/local/lib/python3.6/dist-packages/sklearn/ensemble/_forest.py\u001b[0m in \u001b[0;36mpredict\u001b[0;34m(self, X)\u001b[0m\n\u001b[1;32m    610\u001b[0m             \u001b[0mThe\u001b[0m \u001b[0mpredicted\u001b[0m \u001b[0mclasses\u001b[0m\u001b[0;34m.\u001b[0m\u001b[0;34m\u001b[0m\u001b[0;34m\u001b[0m\u001b[0m\n\u001b[1;32m    611\u001b[0m         \"\"\"\n\u001b[0;32m--> 612\u001b[0;31m         \u001b[0mproba\u001b[0m \u001b[0;34m=\u001b[0m \u001b[0mself\u001b[0m\u001b[0;34m.\u001b[0m\u001b[0mpredict_proba\u001b[0m\u001b[0;34m(\u001b[0m\u001b[0mX\u001b[0m\u001b[0;34m)\u001b[0m\u001b[0;34m\u001b[0m\u001b[0;34m\u001b[0m\u001b[0m\n\u001b[0m\u001b[1;32m    613\u001b[0m \u001b[0;34m\u001b[0m\u001b[0m\n\u001b[1;32m    614\u001b[0m         \u001b[0;32mif\u001b[0m \u001b[0mself\u001b[0m\u001b[0;34m.\u001b[0m\u001b[0mn_outputs_\u001b[0m \u001b[0;34m==\u001b[0m \u001b[0;36m1\u001b[0m\u001b[0;34m:\u001b[0m\u001b[0;34m\u001b[0m\u001b[0;34m\u001b[0m\u001b[0m\n",
            "\u001b[0;32m/usr/local/lib/python3.6/dist-packages/sklearn/ensemble/_forest.py\u001b[0m in \u001b[0;36mpredict_proba\u001b[0;34m(self, X)\u001b[0m\n\u001b[1;32m    654\u001b[0m         \u001b[0mcheck_is_fitted\u001b[0m\u001b[0;34m(\u001b[0m\u001b[0mself\u001b[0m\u001b[0;34m)\u001b[0m\u001b[0;34m\u001b[0m\u001b[0;34m\u001b[0m\u001b[0m\n\u001b[1;32m    655\u001b[0m         \u001b[0;31m# Check data\u001b[0m\u001b[0;34m\u001b[0m\u001b[0;34m\u001b[0m\u001b[0;34m\u001b[0m\u001b[0m\n\u001b[0;32m--> 656\u001b[0;31m         \u001b[0mX\u001b[0m \u001b[0;34m=\u001b[0m \u001b[0mself\u001b[0m\u001b[0;34m.\u001b[0m\u001b[0m_validate_X_predict\u001b[0m\u001b[0;34m(\u001b[0m\u001b[0mX\u001b[0m\u001b[0;34m)\u001b[0m\u001b[0;34m\u001b[0m\u001b[0;34m\u001b[0m\u001b[0m\n\u001b[0m\u001b[1;32m    657\u001b[0m \u001b[0;34m\u001b[0m\u001b[0m\n\u001b[1;32m    658\u001b[0m         \u001b[0;31m# Assign chunk of trees to jobs\u001b[0m\u001b[0;34m\u001b[0m\u001b[0;34m\u001b[0m\u001b[0;34m\u001b[0m\u001b[0m\n",
            "\u001b[0;32m/usr/local/lib/python3.6/dist-packages/sklearn/ensemble/_forest.py\u001b[0m in \u001b[0;36m_validate_X_predict\u001b[0;34m(self, X)\u001b[0m\n\u001b[1;32m    410\u001b[0m         \u001b[0mcheck_is_fitted\u001b[0m\u001b[0;34m(\u001b[0m\u001b[0mself\u001b[0m\u001b[0;34m)\u001b[0m\u001b[0;34m\u001b[0m\u001b[0;34m\u001b[0m\u001b[0m\n\u001b[1;32m    411\u001b[0m \u001b[0;34m\u001b[0m\u001b[0m\n\u001b[0;32m--> 412\u001b[0;31m         \u001b[0;32mreturn\u001b[0m \u001b[0mself\u001b[0m\u001b[0;34m.\u001b[0m\u001b[0mestimators_\u001b[0m\u001b[0;34m[\u001b[0m\u001b[0;36m0\u001b[0m\u001b[0;34m]\u001b[0m\u001b[0;34m.\u001b[0m\u001b[0m_validate_X_predict\u001b[0m\u001b[0;34m(\u001b[0m\u001b[0mX\u001b[0m\u001b[0;34m,\u001b[0m \u001b[0mcheck_input\u001b[0m\u001b[0;34m=\u001b[0m\u001b[0;32mTrue\u001b[0m\u001b[0;34m)\u001b[0m\u001b[0;34m\u001b[0m\u001b[0;34m\u001b[0m\u001b[0m\n\u001b[0m\u001b[1;32m    413\u001b[0m \u001b[0;34m\u001b[0m\u001b[0m\n\u001b[1;32m    414\u001b[0m     \u001b[0;34m@\u001b[0m\u001b[0mproperty\u001b[0m\u001b[0;34m\u001b[0m\u001b[0;34m\u001b[0m\u001b[0m\n",
            "\u001b[0;32m/usr/local/lib/python3.6/dist-packages/sklearn/tree/_classes.py\u001b[0m in \u001b[0;36m_validate_X_predict\u001b[0;34m(self, X, check_input)\u001b[0m\n\u001b[1;32m    378\u001b[0m         \u001b[0;34m\"\"\"Validate X whenever one tries to predict, apply, predict_proba\"\"\"\u001b[0m\u001b[0;34m\u001b[0m\u001b[0;34m\u001b[0m\u001b[0m\n\u001b[1;32m    379\u001b[0m         \u001b[0;32mif\u001b[0m \u001b[0mcheck_input\u001b[0m\u001b[0;34m:\u001b[0m\u001b[0;34m\u001b[0m\u001b[0;34m\u001b[0m\u001b[0m\n\u001b[0;32m--> 380\u001b[0;31m             \u001b[0mX\u001b[0m \u001b[0;34m=\u001b[0m \u001b[0mcheck_array\u001b[0m\u001b[0;34m(\u001b[0m\u001b[0mX\u001b[0m\u001b[0;34m,\u001b[0m \u001b[0mdtype\u001b[0m\u001b[0;34m=\u001b[0m\u001b[0mDTYPE\u001b[0m\u001b[0;34m,\u001b[0m \u001b[0maccept_sparse\u001b[0m\u001b[0;34m=\u001b[0m\u001b[0;34m\"csr\"\u001b[0m\u001b[0;34m)\u001b[0m\u001b[0;34m\u001b[0m\u001b[0;34m\u001b[0m\u001b[0m\n\u001b[0m\u001b[1;32m    381\u001b[0m             if issparse(X) and (X.indices.dtype != np.intc or\n\u001b[1;32m    382\u001b[0m                                 X.indptr.dtype != np.intc):\n",
            "\u001b[0;32m/usr/local/lib/python3.6/dist-packages/sklearn/utils/validation.py\u001b[0m in \u001b[0;36mcheck_array\u001b[0;34m(array, accept_sparse, accept_large_sparse, dtype, order, copy, force_all_finite, ensure_2d, allow_nd, ensure_min_samples, ensure_min_features, warn_on_dtype, estimator)\u001b[0m\n\u001b[1;32m    584\u001b[0m                              \u001b[0;34m\" minimum of %d is required%s.\"\u001b[0m\u001b[0;34m\u001b[0m\u001b[0;34m\u001b[0m\u001b[0m\n\u001b[1;32m    585\u001b[0m                              % (n_samples, array.shape, ensure_min_samples,\n\u001b[0;32m--> 586\u001b[0;31m                                 context))\n\u001b[0m\u001b[1;32m    587\u001b[0m \u001b[0;34m\u001b[0m\u001b[0m\n\u001b[1;32m    588\u001b[0m     \u001b[0;32mif\u001b[0m \u001b[0mensure_min_features\u001b[0m \u001b[0;34m>\u001b[0m \u001b[0;36m0\u001b[0m \u001b[0;32mand\u001b[0m \u001b[0marray\u001b[0m\u001b[0;34m.\u001b[0m\u001b[0mndim\u001b[0m \u001b[0;34m==\u001b[0m \u001b[0;36m2\u001b[0m\u001b[0;34m:\u001b[0m\u001b[0;34m\u001b[0m\u001b[0;34m\u001b[0m\u001b[0m\n",
            "\u001b[0;31mValueError\u001b[0m: Found array with 0 sample(s) (shape=(0, 6)) while a minimum of 1 is required."
          ]
        }
      ]
    },
    {
      "cell_type": "code",
      "metadata": {
        "id": "KNL4UAAcQrVe",
        "colab": {
          "base_uri": "https://localhost:8080/"
        },
        "outputId": "d9c5b481-fc31-4c57-a876-9b252b4d3a7c"
      },
      "source": [
        "start_time = time.time()\n",
        "elapsed_time = time.time() - start_time\n",
        "print(\"Elapsed time : \", elapsed_time)\n",
        "\n",
        "# save the model to disk\n",
        "filename = 'extratree4_model.pkl'\n",
        "pickle.dump(model, open(filename, 'wb'))\n",
        "\n",
        "\n",
        "# take the best estimator \n",
        "#best_estimator = model.best_estimator_\n",
        "# determine the f1-score \n",
        "# y_pred = best_estimator.predict(X_val_transform)\n",
        "# f_score = f1_score(y_val, y_pred, average = 'macro')\n",
        "# print(\"f1_score: \", f_score)"
      ],
      "execution_count": null,
      "outputs": [
        {
          "output_type": "stream",
          "text": [
            "Elapsed time :  8.344650268554688e-05\n"
          ],
          "name": "stdout"
        }
      ]
    },
    {
      "cell_type": "code",
      "metadata": {
        "id": "6PqfJKnRJReq"
      },
      "source": [
        ""
      ],
      "execution_count": null,
      "outputs": []
    },
    {
      "cell_type": "code",
      "metadata": {
        "id": "Z_RyRdzrJRjq"
      },
      "source": [
        "from sklearn import datasets\n",
        "iris = datasets.load_wine()\n",
        "\n",
        "X = iris.data  # we only take the first two features.\n",
        "y = iris.target\n",
        "X_transformed = MinMaxScaler(feature_range=(0,1)).fit_transform(X)\n",
        "\n",
        "n=100\n",
        "X_transformed1=X_transformed[:n]\n",
        "X_transformed2=X_transformed[n:]\n",
        "y1=y[:n]\n",
        "y2=y[n:]"
      ],
      "execution_count": null,
      "outputs": []
    },
    {
      "cell_type": "code",
      "metadata": {
        "colab": {
          "base_uri": "https://localhost:8080/"
        },
        "id": "t0H5Q8MIn84X",
        "outputId": "806598b7-5df6-4a04-de54-5e40731216a9"
      },
      "source": [
        "y.shuffle"
      ],
      "execution_count": null,
      "outputs": [
        {
          "output_type": "execute_result",
          "data": {
            "text/plain": [
              "array([0, 0, 0, 0, 0, 0, 0, 0, 0, 0, 0, 0, 0, 0, 0, 0, 0, 0, 0, 0, 0, 0,\n",
              "       0, 0, 0, 0, 0, 0, 0, 0, 0, 0, 0, 0, 0, 0, 0, 0, 0, 0, 0, 0, 0, 0,\n",
              "       0, 0, 0, 0, 0, 0, 0, 0, 0, 0, 0, 0, 0, 0, 0, 1, 1, 1, 1, 1, 1, 1,\n",
              "       1, 1, 1, 1, 1, 1, 1, 1, 1, 1, 1, 1, 1, 1, 1, 1, 1, 1, 1, 1, 1, 1,\n",
              "       1, 1, 1, 1, 1, 1, 1, 1, 1, 1, 1, 1, 1, 1, 1, 1, 1, 1, 1, 1, 1, 1,\n",
              "       1, 1, 1, 1, 1, 1, 1, 1, 1, 1, 1, 1, 1, 1, 1, 1, 1, 1, 1, 1, 2, 2,\n",
              "       2, 2, 2, 2, 2, 2, 2, 2, 2, 2, 2, 2, 2, 2, 2, 2, 2, 2, 2, 2, 2, 2,\n",
              "       2, 2, 2, 2, 2, 2, 2, 2, 2, 2, 2, 2, 2, 2, 2, 2, 2, 2, 2, 2, 2, 2,\n",
              "       2, 2])"
            ]
          },
          "metadata": {
            "tags": []
          },
          "execution_count": 91
        }
      ]
    },
    {
      "cell_type": "code",
      "metadata": {
        "colab": {
          "base_uri": "https://localhost:8080/"
        },
        "id": "YGN2Vpxsg7is",
        "outputId": "bdb53ac9-6d40-4658-b0ca-9dbeab52bb68"
      },
      "source": [
        "trainX, testX, trainy, testy = train_test_split(X_transformed1, y1, test_size=0.2)\n",
        "\n",
        "model=ExtraTreesClassifier()\n",
        "#model=RandomForestClassifier()\n",
        "\n",
        "model.fit(trainX,trainy)\n",
        "\n",
        "predictions = model.predict(testX)\n",
        "print(accuracy_score(testy, predictions))\n",
        "print(confusion_matrix(testy, predictions))\n",
        "print(classification_report(testy, predictions))\n",
        "f_score = f1_score(testy, predictions, average = 'macro')\n",
        "print(\"f1:\",f_score)"
      ],
      "execution_count": null,
      "outputs": [
        {
          "output_type": "stream",
          "text": [
            "1.0\n",
            "[[11  0]\n",
            " [ 0  9]]\n",
            "              precision    recall  f1-score   support\n",
            "\n",
            "           0       1.00      1.00      1.00        11\n",
            "           1       1.00      1.00      1.00         9\n",
            "\n",
            "    accuracy                           1.00        20\n",
            "   macro avg       1.00      1.00      1.00        20\n",
            "weighted avg       1.00      1.00      1.00        20\n",
            "\n",
            "f1: 1.0\n"
          ],
          "name": "stdout"
        }
      ]
    },
    {
      "cell_type": "code",
      "metadata": {
        "colab": {
          "base_uri": "https://localhost:8080/"
        },
        "id": "02CM5pMLg7lp",
        "outputId": "e25da199-6350-4e6b-cddb-0106cd261c56"
      },
      "source": [
        "testy"
      ],
      "execution_count": null,
      "outputs": [
        {
          "output_type": "execute_result",
          "data": {
            "text/plain": [
              "array([1, 1, 1, 1, 0, 0, 0, 1, 0, 0, 1, 1, 0, 0, 0, 1, 0, 1, 0, 0])"
            ]
          },
          "metadata": {
            "tags": []
          },
          "execution_count": 86
        }
      ]
    },
    {
      "cell_type": "code",
      "metadata": {
        "colab": {
          "base_uri": "https://localhost:8080/"
        },
        "id": "nTvYbLIvg7oD",
        "outputId": "f345ae94-be71-4a61-fd5a-35c5c84f0255"
      },
      "source": [
        "y2"
      ],
      "execution_count": null,
      "outputs": [
        {
          "output_type": "execute_result",
          "data": {
            "text/plain": [
              "array([2, 2, 2, 2, 2, 2, 2, 2, 2, 2, 2, 2, 2, 2, 2, 2, 2, 2, 2, 2, 2, 2,\n",
              "       2, 2, 2, 2, 2, 2, 2, 2, 2, 2, 2, 2, 2, 2, 2, 2, 2, 2, 2, 2, 2, 2,\n",
              "       2, 2, 2, 2, 2, 2])"
            ]
          },
          "metadata": {
            "tags": []
          },
          "execution_count": 87
        }
      ]
    },
    {
      "cell_type": "code",
      "metadata": {
        "id": "wGbIQ-1_g7q_"
      },
      "source": [
        ""
      ],
      "execution_count": null,
      "outputs": []
    },
    {
      "cell_type": "code",
      "metadata": {
        "id": "uM6NS3rbg7uL"
      },
      "source": [
        ""
      ],
      "execution_count": null,
      "outputs": []
    },
    {
      "cell_type": "code",
      "metadata": {
        "id": "0glPtNTpg7w1"
      },
      "source": [
        ""
      ],
      "execution_count": null,
      "outputs": []
    },
    {
      "cell_type": "code",
      "metadata": {
        "id": "o6C6f9RRQrnL"
      },
      "source": [
        ""
      ],
      "execution_count": null,
      "outputs": []
    },
    {
      "cell_type": "code",
      "metadata": {
        "colab": {
          "base_uri": "https://localhost:8080/",
          "height": 419
        },
        "id": "X8YA8tpGQrqE",
        "outputId": "866a13b3-d94e-4f27-80b4-88de0ae759be"
      },
      "source": [
        "path=\"/content/drive/My Drive/train_imu.csv\"\n",
        "df = pd.read_csv(path)\n",
        "df=df.iloc[1304860:,:-1]\n",
        "df"
      ],
      "execution_count": null,
      "outputs": [
        {
          "output_type": "execute_result",
          "data": {
            "text/html": [
              "<div>\n",
              "<style scoped>\n",
              "    .dataframe tbody tr th:only-of-type {\n",
              "        vertical-align: middle;\n",
              "    }\n",
              "\n",
              "    .dataframe tbody tr th {\n",
              "        vertical-align: top;\n",
              "    }\n",
              "\n",
              "    .dataframe thead th {\n",
              "        text-align: right;\n",
              "    }\n",
              "</style>\n",
              "<table border=\"1\" class=\"dataframe\">\n",
              "  <thead>\n",
              "    <tr style=\"text-align: right;\">\n",
              "      <th></th>\n",
              "      <th>Ax</th>\n",
              "      <th>Ay</th>\n",
              "      <th>Az</th>\n",
              "      <th>Gx</th>\n",
              "      <th>Gy</th>\n",
              "      <th>Gz</th>\n",
              "      <th>datetime</th>\n",
              "    </tr>\n",
              "  </thead>\n",
              "  <tbody>\n",
              "    <tr>\n",
              "      <th>1304860</th>\n",
              "      <td>8892</td>\n",
              "      <td>3272</td>\n",
              "      <td>-12428</td>\n",
              "      <td>-92</td>\n",
              "      <td>27</td>\n",
              "      <td>-53</td>\n",
              "      <td>2020-11-07 20:13:02</td>\n",
              "    </tr>\n",
              "    <tr>\n",
              "      <th>1304861</th>\n",
              "      <td>8960</td>\n",
              "      <td>2988</td>\n",
              "      <td>-11724</td>\n",
              "      <td>83</td>\n",
              "      <td>-33</td>\n",
              "      <td>-70</td>\n",
              "      <td>2020-11-07 20:13:03</td>\n",
              "    </tr>\n",
              "    <tr>\n",
              "      <th>1304862</th>\n",
              "      <td>9036</td>\n",
              "      <td>3244</td>\n",
              "      <td>-12252</td>\n",
              "      <td>-182</td>\n",
              "      <td>45</td>\n",
              "      <td>-87</td>\n",
              "      <td>2020-11-07 20:13:03</td>\n",
              "    </tr>\n",
              "    <tr>\n",
              "      <th>1304863</th>\n",
              "      <td>9104</td>\n",
              "      <td>2656</td>\n",
              "      <td>-12304</td>\n",
              "      <td>-14</td>\n",
              "      <td>3</td>\n",
              "      <td>-38</td>\n",
              "      <td>2020-11-07 20:13:04</td>\n",
              "    </tr>\n",
              "    <tr>\n",
              "      <th>1304864</th>\n",
              "      <td>9052</td>\n",
              "      <td>2508</td>\n",
              "      <td>-12296</td>\n",
              "      <td>11</td>\n",
              "      <td>16</td>\n",
              "      <td>-31</td>\n",
              "      <td>2020-11-07 20:13:04</td>\n",
              "    </tr>\n",
              "    <tr>\n",
              "      <th>...</th>\n",
              "      <td>...</td>\n",
              "      <td>...</td>\n",
              "      <td>...</td>\n",
              "      <td>...</td>\n",
              "      <td>...</td>\n",
              "      <td>...</td>\n",
              "      <td>...</td>\n",
              "    </tr>\n",
              "    <tr>\n",
              "      <th>2180486</th>\n",
              "      <td>14788</td>\n",
              "      <td>344</td>\n",
              "      <td>8888</td>\n",
              "      <td>-36</td>\n",
              "      <td>14</td>\n",
              "      <td>-37</td>\n",
              "      <td>2020-11-11 10:38:48</td>\n",
              "    </tr>\n",
              "    <tr>\n",
              "      <th>2180487</th>\n",
              "      <td>14644</td>\n",
              "      <td>364</td>\n",
              "      <td>8840</td>\n",
              "      <td>-34</td>\n",
              "      <td>13</td>\n",
              "      <td>-37</td>\n",
              "      <td>2020-11-11 10:38:49</td>\n",
              "    </tr>\n",
              "    <tr>\n",
              "      <th>2180488</th>\n",
              "      <td>14732</td>\n",
              "      <td>380</td>\n",
              "      <td>8852</td>\n",
              "      <td>-36</td>\n",
              "      <td>13</td>\n",
              "      <td>-35</td>\n",
              "      <td>2020-11-11 10:38:49</td>\n",
              "    </tr>\n",
              "    <tr>\n",
              "      <th>2180489</th>\n",
              "      <td>14772</td>\n",
              "      <td>408</td>\n",
              "      <td>8904</td>\n",
              "      <td>-34</td>\n",
              "      <td>15</td>\n",
              "      <td>-38</td>\n",
              "      <td>2020-11-11 10:38:49</td>\n",
              "    </tr>\n",
              "    <tr>\n",
              "      <th>2180490</th>\n",
              "      <td>14672</td>\n",
              "      <td>368</td>\n",
              "      <td>8832</td>\n",
              "      <td>-31</td>\n",
              "      <td>16</td>\n",
              "      <td>-38</td>\n",
              "      <td>2020-11-11 10:38:49</td>\n",
              "    </tr>\n",
              "  </tbody>\n",
              "</table>\n",
              "<p>875631 rows × 7 columns</p>\n",
              "</div>"
            ],
            "text/plain": [
              "            Ax    Ay     Az   Gx  Gy  Gz             datetime\n",
              "1304860   8892  3272 -12428  -92  27 -53  2020-11-07 20:13:02\n",
              "1304861   8960  2988 -11724   83 -33 -70  2020-11-07 20:13:03\n",
              "1304862   9036  3244 -12252 -182  45 -87  2020-11-07 20:13:03\n",
              "1304863   9104  2656 -12304  -14   3 -38  2020-11-07 20:13:04\n",
              "1304864   9052  2508 -12296   11  16 -31  2020-11-07 20:13:04\n",
              "...        ...   ...    ...  ...  ..  ..                  ...\n",
              "2180486  14788   344   8888  -36  14 -37  2020-11-11 10:38:48\n",
              "2180487  14644   364   8840  -34  13 -37  2020-11-11 10:38:49\n",
              "2180488  14732   380   8852  -36  13 -35  2020-11-11 10:38:49\n",
              "2180489  14772   408   8904  -34  15 -38  2020-11-11 10:38:49\n",
              "2180490  14672   368   8832  -31  16 -38  2020-11-11 10:38:49\n",
              "\n",
              "[875631 rows x 7 columns]"
            ]
          },
          "metadata": {
            "tags": []
          },
          "execution_count": 61
        }
      ]
    },
    {
      "cell_type": "code",
      "metadata": {
        "colab": {
          "base_uri": "https://localhost:8080/",
          "height": 419
        },
        "id": "VFE7fqisQrs6",
        "outputId": "e2ccfb07-f9dd-4b11-a651-2534123487b5"
      },
      "source": [
        "def filterData(samples):\n",
        "    \"\"\"\n",
        "    Apply low pass filter to samples \n",
        "    \n",
        "    Input: \n",
        "          sample:  numpy 1-D array \n",
        "    Return:\n",
        "         y: filtered datat 1-D numpy array \n",
        "          \n",
        "    \"\"\"\n",
        "    \n",
        "    window = 1000# the larger n is, the smoother curve will be\n",
        "    b = [1.0 / window] * window\n",
        "    a = 1\n",
        "    y = lfilter(b,a,samples)\n",
        "    \n",
        "    return y \n",
        "\n",
        "\n",
        "\n",
        "# apply filter to dataframe and store it in a new dataframe df_filter\n",
        "df_filter = df.loc[:, df.columns[:-1].tolist()].apply(filterData)\n",
        "\n",
        "\n",
        "# merge all dataframe in order to containe filter and non-filtered smaples \n",
        "df = pd.concat([df_filter, df.datetime], join='outer', axis=1)\n",
        "\n",
        "del(df_filter)\n",
        "df"
      ],
      "execution_count": null,
      "outputs": [
        {
          "output_type": "execute_result",
          "data": {
            "text/html": [
              "<div>\n",
              "<style scoped>\n",
              "    .dataframe tbody tr th:only-of-type {\n",
              "        vertical-align: middle;\n",
              "    }\n",
              "\n",
              "    .dataframe tbody tr th {\n",
              "        vertical-align: top;\n",
              "    }\n",
              "\n",
              "    .dataframe thead th {\n",
              "        text-align: right;\n",
              "    }\n",
              "</style>\n",
              "<table border=\"1\" class=\"dataframe\">\n",
              "  <thead>\n",
              "    <tr style=\"text-align: right;\">\n",
              "      <th></th>\n",
              "      <th>Ax</th>\n",
              "      <th>Ay</th>\n",
              "      <th>Az</th>\n",
              "      <th>Gx</th>\n",
              "      <th>Gy</th>\n",
              "      <th>Gz</th>\n",
              "      <th>datetime</th>\n",
              "    </tr>\n",
              "  </thead>\n",
              "  <tbody>\n",
              "    <tr>\n",
              "      <th>1304860</th>\n",
              "      <td>8.892</td>\n",
              "      <td>3.272</td>\n",
              "      <td>-12.428</td>\n",
              "      <td>-0.092</td>\n",
              "      <td>0.027</td>\n",
              "      <td>-0.053</td>\n",
              "      <td>2020-11-07 20:13:02</td>\n",
              "    </tr>\n",
              "    <tr>\n",
              "      <th>1304861</th>\n",
              "      <td>17.852</td>\n",
              "      <td>6.260</td>\n",
              "      <td>-24.152</td>\n",
              "      <td>-0.009</td>\n",
              "      <td>-0.006</td>\n",
              "      <td>-0.123</td>\n",
              "      <td>2020-11-07 20:13:03</td>\n",
              "    </tr>\n",
              "    <tr>\n",
              "      <th>1304862</th>\n",
              "      <td>26.888</td>\n",
              "      <td>9.504</td>\n",
              "      <td>-36.404</td>\n",
              "      <td>-0.191</td>\n",
              "      <td>0.039</td>\n",
              "      <td>-0.210</td>\n",
              "      <td>2020-11-07 20:13:03</td>\n",
              "    </tr>\n",
              "    <tr>\n",
              "      <th>1304863</th>\n",
              "      <td>35.992</td>\n",
              "      <td>12.160</td>\n",
              "      <td>-48.708</td>\n",
              "      <td>-0.205</td>\n",
              "      <td>0.042</td>\n",
              "      <td>-0.248</td>\n",
              "      <td>2020-11-07 20:13:04</td>\n",
              "    </tr>\n",
              "    <tr>\n",
              "      <th>1304864</th>\n",
              "      <td>45.044</td>\n",
              "      <td>14.668</td>\n",
              "      <td>-61.004</td>\n",
              "      <td>-0.194</td>\n",
              "      <td>0.058</td>\n",
              "      <td>-0.279</td>\n",
              "      <td>2020-11-07 20:13:04</td>\n",
              "    </tr>\n",
              "    <tr>\n",
              "      <th>...</th>\n",
              "      <td>...</td>\n",
              "      <td>...</td>\n",
              "      <td>...</td>\n",
              "      <td>...</td>\n",
              "      <td>...</td>\n",
              "      <td>...</td>\n",
              "      <td>...</td>\n",
              "    </tr>\n",
              "    <tr>\n",
              "      <th>2180486</th>\n",
              "      <td>8638.360</td>\n",
              "      <td>-2158.181</td>\n",
              "      <td>216.551</td>\n",
              "      <td>-49.597</td>\n",
              "      <td>28.703</td>\n",
              "      <td>-55.410</td>\n",
              "      <td>2020-11-11 10:38:48</td>\n",
              "    </tr>\n",
              "    <tr>\n",
              "      <th>2180487</th>\n",
              "      <td>8645.012</td>\n",
              "      <td>-2156.813</td>\n",
              "      <td>238.395</td>\n",
              "      <td>-49.998</td>\n",
              "      <td>28.813</td>\n",
              "      <td>-55.083</td>\n",
              "      <td>2020-11-11 10:38:49</td>\n",
              "    </tr>\n",
              "    <tr>\n",
              "      <th>2180488</th>\n",
              "      <td>8653.192</td>\n",
              "      <td>-2154.809</td>\n",
              "      <td>262.223</td>\n",
              "      <td>-50.024</td>\n",
              "      <td>29.112</td>\n",
              "      <td>-54.961</td>\n",
              "      <td>2020-11-11 10:38:49</td>\n",
              "    </tr>\n",
              "    <tr>\n",
              "      <th>2180489</th>\n",
              "      <td>8667.888</td>\n",
              "      <td>-2154.433</td>\n",
              "      <td>285.491</td>\n",
              "      <td>-49.652</td>\n",
              "      <td>29.021</td>\n",
              "      <td>-54.639</td>\n",
              "      <td>2020-11-11 10:38:49</td>\n",
              "    </tr>\n",
              "    <tr>\n",
              "      <th>2180490</th>\n",
              "      <td>8682.940</td>\n",
              "      <td>-2152.993</td>\n",
              "      <td>310.151</td>\n",
              "      <td>-50.093</td>\n",
              "      <td>28.545</td>\n",
              "      <td>-52.944</td>\n",
              "      <td>2020-11-11 10:38:49</td>\n",
              "    </tr>\n",
              "  </tbody>\n",
              "</table>\n",
              "<p>875631 rows × 7 columns</p>\n",
              "</div>"
            ],
            "text/plain": [
              "               Ax        Ay       Az  ...      Gy      Gz             datetime\n",
              "1304860     8.892     3.272  -12.428  ...   0.027  -0.053  2020-11-07 20:13:02\n",
              "1304861    17.852     6.260  -24.152  ...  -0.006  -0.123  2020-11-07 20:13:03\n",
              "1304862    26.888     9.504  -36.404  ...   0.039  -0.210  2020-11-07 20:13:03\n",
              "1304863    35.992    12.160  -48.708  ...   0.042  -0.248  2020-11-07 20:13:04\n",
              "1304864    45.044    14.668  -61.004  ...   0.058  -0.279  2020-11-07 20:13:04\n",
              "...           ...       ...      ...  ...     ...     ...                  ...\n",
              "2180486  8638.360 -2158.181  216.551  ...  28.703 -55.410  2020-11-11 10:38:48\n",
              "2180487  8645.012 -2156.813  238.395  ...  28.813 -55.083  2020-11-11 10:38:49\n",
              "2180488  8653.192 -2154.809  262.223  ...  29.112 -54.961  2020-11-11 10:38:49\n",
              "2180489  8667.888 -2154.433  285.491  ...  29.021 -54.639  2020-11-11 10:38:49\n",
              "2180490  8682.940 -2152.993  310.151  ...  28.545 -52.944  2020-11-11 10:38:49\n",
              "\n",
              "[875631 rows x 7 columns]"
            ]
          },
          "metadata": {
            "tags": []
          },
          "execution_count": 62
        }
      ]
    },
    {
      "cell_type": "code",
      "metadata": {
        "id": "g9oWfX5vUgw3",
        "colab": {
          "base_uri": "https://localhost:8080/",
          "height": 450
        },
        "outputId": "12641fa3-7ddc-4192-fd7c-7f0ced8e375b"
      },
      "source": [
        "def process_raw_data(dataset):\n",
        "    X=dataset.iloc[:,0:6]\n",
        "    # #scaler = MinMaxScaler(feature_range=(0,1)).fit_transform(X)\n",
        "    df=pd.DataFrame(X,columns=X.columns)\n",
        "    df=pd.concat([dataset.datetime,df],axis=1)\n",
        "    df['vector'] = [[Ax,Ay,Az,Gx,Gy,Gz]for Ax,Ay,Az,Gx,Gy,Gz in zip(df.Ax, df.Ay,df.Az,df.Gx,df.Gy,df.Gz)]\n",
        "    df=pd.concat([dataset.datetime,df.vector],axis=1)\n",
        "    df = df.groupby('datetime')[\"vector\"].apply(list)\n",
        "    # label_df = df.groupby('datetime')[\"labels\"].first()\n",
        "    df=pd.DataFrame(df)\n",
        "    df[\"vector\"]=df[\"vector\"].apply(lambda x: np.array(x))\n",
        "    df[\"vector\"]=df[\"vector\"].apply(lambda x: x.mean(axis=0))                  #method 3 - mean value vector\n",
        "    return df\n",
        "\n",
        "df=process_raw_data(df)\n",
        "df"
      ],
      "execution_count": null,
      "outputs": [
        {
          "output_type": "execute_result",
          "data": {
            "text/html": [
              "<div>\n",
              "<style scoped>\n",
              "    .dataframe tbody tr th:only-of-type {\n",
              "        vertical-align: middle;\n",
              "    }\n",
              "\n",
              "    .dataframe tbody tr th {\n",
              "        vertical-align: top;\n",
              "    }\n",
              "\n",
              "    .dataframe thead th {\n",
              "        text-align: right;\n",
              "    }\n",
              "</style>\n",
              "<table border=\"1\" class=\"dataframe\">\n",
              "  <thead>\n",
              "    <tr style=\"text-align: right;\">\n",
              "      <th></th>\n",
              "      <th>vector</th>\n",
              "    </tr>\n",
              "    <tr>\n",
              "      <th>datetime</th>\n",
              "      <th></th>\n",
              "    </tr>\n",
              "  </thead>\n",
              "  <tbody>\n",
              "    <tr>\n",
              "      <th>2020-11-07 20:13:02</th>\n",
              "      <td>[8.892, 3.2720000000000002, -12.428, -0.092, 0...</td>\n",
              "    </tr>\n",
              "    <tr>\n",
              "      <th>2020-11-07 20:13:03</th>\n",
              "      <td>[22.369999999999997, 7.882, -30.27800000000000...</td>\n",
              "    </tr>\n",
              "    <tr>\n",
              "      <th>2020-11-07 20:13:04</th>\n",
              "      <td>[44.970666666666666, 14.427999999999999, -61.0...</td>\n",
              "    </tr>\n",
              "    <tr>\n",
              "      <th>2020-11-07 20:13:05</th>\n",
              "      <td>[76.565, 22.519, -103.787, -0.25025, 0.12775, ...</td>\n",
              "    </tr>\n",
              "    <tr>\n",
              "      <th>2020-11-07 20:13:06</th>\n",
              "      <td>[107.80533333333334, 32.24666666666666, -146.9...</td>\n",
              "    </tr>\n",
              "    <tr>\n",
              "      <th>...</th>\n",
              "      <td>...</td>\n",
              "    </tr>\n",
              "    <tr>\n",
              "      <th>2020-11-11 10:38:45</th>\n",
              "      <td>[8589.096000000001, -2176.0709999999995, 50.80...</td>\n",
              "    </tr>\n",
              "    <tr>\n",
              "      <th>2020-11-11 10:38:46</th>\n",
              "      <td>[8600.160000000003, -2172.8869999999997, 93.01...</td>\n",
              "    </tr>\n",
              "    <tr>\n",
              "      <th>2020-11-11 10:38:47</th>\n",
              "      <td>[8614.128000000004, -2166.5703333333327, 147.0...</td>\n",
              "    </tr>\n",
              "    <tr>\n",
              "      <th>2020-11-11 10:38:48</th>\n",
              "      <td>[8634.294000000004, -2159.554999999999, 205.52...</td>\n",
              "    </tr>\n",
              "    <tr>\n",
              "      <th>2020-11-11 10:38:49</th>\n",
              "      <td>[8662.258000000003, -2154.761999999999, 274.06...</td>\n",
              "    </tr>\n",
              "  </tbody>\n",
              "</table>\n",
              "<p>307703 rows × 1 columns</p>\n",
              "</div>"
            ],
            "text/plain": [
              "                                                                vector\n",
              "datetime                                                              \n",
              "2020-11-07 20:13:02  [8.892, 3.2720000000000002, -12.428, -0.092, 0...\n",
              "2020-11-07 20:13:03  [22.369999999999997, 7.882, -30.27800000000000...\n",
              "2020-11-07 20:13:04  [44.970666666666666, 14.427999999999999, -61.0...\n",
              "2020-11-07 20:13:05  [76.565, 22.519, -103.787, -0.25025, 0.12775, ...\n",
              "2020-11-07 20:13:06  [107.80533333333334, 32.24666666666666, -146.9...\n",
              "...                                                                ...\n",
              "2020-11-11 10:38:45  [8589.096000000001, -2176.0709999999995, 50.80...\n",
              "2020-11-11 10:38:46  [8600.160000000003, -2172.8869999999997, 93.01...\n",
              "2020-11-11 10:38:47  [8614.128000000004, -2166.5703333333327, 147.0...\n",
              "2020-11-11 10:38:48  [8634.294000000004, -2159.554999999999, 205.52...\n",
              "2020-11-11 10:38:49  [8662.258000000003, -2154.761999999999, 274.06...\n",
              "\n",
              "[307703 rows x 1 columns]"
            ]
          },
          "metadata": {
            "tags": []
          },
          "execution_count": 63
        }
      ]
    },
    {
      "cell_type": "code",
      "metadata": {
        "id": "B3ho9L_0Qr6J"
      },
      "source": [
        "X=df[\"vector\"]\n",
        "\n",
        "\n",
        "X=np.concatenate(X.values).reshape(len(X),max_row,6)\n",
        "\n",
        "X=X.reshape(X.shape[0],X.shape[1]*X.shape[2])\n",
        "\n",
        "#X_transformed=QuantileTransformer(output_distribution='normal').fit_transform(X)\n",
        "X_transformed2 = MinMaxScaler(feature_range=(0,1)).fit_transform(X)\n",
        "\n"
      ],
      "execution_count": null,
      "outputs": []
    },
    {
      "cell_type": "code",
      "metadata": {
        "colab": {
          "base_uri": "https://localhost:8080/"
        },
        "id": "MzUP79lGQr86",
        "outputId": "d3a350c5-cac7-4442-c50d-fe85852d79a4"
      },
      "source": [
        "\n",
        "predictions = model.predict(X_transformed2)\n",
        "\n",
        "\n",
        "print(accuracy_score(t, predictions))\n",
        "print(confusion_matrix(t, predictions))\n",
        "print(classification_report(t, predictions))\n",
        "f_score = f1_score(t, predictions, average = 'macro')\n",
        "print(\"f1:\",f_score)"
      ],
      "execution_count": null,
      "outputs": [
        {
          "output_type": "stream",
          "text": [
            "0.7314488321530827\n",
            "[[225069     54      0      0]\n",
            " [ 76081      0      0      0]\n",
            " [  6041      0      0      0]\n",
            " [   458      0      0      0]]\n"
          ],
          "name": "stdout"
        },
        {
          "output_type": "stream",
          "text": [
            "/usr/local/lib/python3.6/dist-packages/sklearn/metrics/_classification.py:1272: UndefinedMetricWarning: Precision and F-score are ill-defined and being set to 0.0 in labels with no predicted samples. Use `zero_division` parameter to control this behavior.\n",
            "  _warn_prf(average, modifier, msg_start, len(result))\n"
          ],
          "name": "stderr"
        },
        {
          "output_type": "stream",
          "text": [
            "              precision    recall  f1-score   support\n",
            "\n",
            "           0       0.73      1.00      0.84    225123\n",
            "           1       0.00      0.00      0.00     76081\n",
            "           2       0.00      0.00      0.00      6041\n",
            "           4       0.00      0.00      0.00       458\n",
            "\n",
            "    accuracy                           0.73    307703\n",
            "   macro avg       0.18      0.25      0.21    307703\n",
            "weighted avg       0.54      0.73      0.62    307703\n",
            "\n",
            "f1: 0.21122450128760523\n"
          ],
          "name": "stdout"
        }
      ]
    },
    {
      "cell_type": "code",
      "metadata": {
        "colab": {
          "base_uri": "https://localhost:8080/",
          "height": 333
        },
        "id": "iqRWhTy3byLH",
        "outputId": "2bc58899-93ce-41ee-8992-41053487f6ae"
      },
      "source": [
        ""
      ],
      "execution_count": null,
      "outputs": [
        {
          "output_type": "execute_result",
          "data": {
            "text/plain": [
              "(array([498140.,      0.,      0.,      0.,      0.,   4730.,      0.,\n",
              "             0.,      0.,    572.]),\n",
              " array([0. , 0.2, 0.4, 0.6, 0.8, 1. , 1.2, 1.4, 1.6, 1.8, 2. ]),\n",
              " <a list of 10 Patch objects>)"
            ]
          },
          "metadata": {
            "tags": []
          },
          "execution_count": 22
        },
        {
          "output_type": "display_data",
          "data": {
            "image/png": "[encoded data removed]",
            "text/plain": [
              "<Figure size 432x288 with 1 Axes>"
            ]
          },
          "metadata": {
            "tags": [],
            "needs_background": "light"
          }
        }
      ]
    }
  ]
}